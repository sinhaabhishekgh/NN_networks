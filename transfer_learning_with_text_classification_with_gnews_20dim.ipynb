{
  "nbformat": 4,
  "nbformat_minor": 0,
  "metadata": {
    "colab": {
      "name": "transfer_learning_with_text_classification_with_gnews_20dim.ipynb",
      "provenance": [],
      "include_colab_link": true
    },
    "kernelspec": {
      "name": "python3",
      "display_name": "Python 3"
    },
    "accelerator": "GPU"
  },
  "cells": [
    {
      "cell_type": "markdown",
      "metadata": {
        "id": "view-in-github",
        "colab_type": "text"
      },
      "source": [
        "<a href=\"https://colab.research.google.com/github/sinhaabhishekgh/NN_networks/blob/master/transfer_learning_with_text_classification_with_gnews_20dim.ipynb\" target=\"_parent\"><img src=\"https://colab.research.google.com/assets/colab-badge.svg\" alt=\"Open In Colab\"/></a>"
      ]
    },
    {
      "cell_type": "code",
      "metadata": {
        "id": "TWhDt6aOglPN",
        "colab_type": "code",
        "colab": {
          "base_uri": "https://localhost:8080/",
          "height": 51
        },
        "outputId": "0e816242-9b23-4d00-e91a-a528f819bcb4"
      },
      "source": [
        "from __future__ import division, absolute_import, print_function, unicode_literals\n",
        "\n",
        "try:\n",
        "  %tensorflow_version 2.x\n",
        "except Exception:\n",
        "  pass\n",
        "\n",
        "import tensorflow as tf\n",
        "import tensorflow_hub as hub\n",
        "import tensorflow_datasets as datasets\n",
        "print(tf.__version__)"
      ],
      "execution_count": 1,
      "outputs": [
        {
          "output_type": "stream",
          "text": [
            "TensorFlow 2.x selected.\n",
            "2.0.0-rc2\n"
          ],
          "name": "stdout"
        }
      ]
    },
    {
      "cell_type": "code",
      "metadata": {
        "id": "lPKi9wemh9uU",
        "colab_type": "code",
        "colab": {
          "base_uri": "https://localhost:8080/",
          "height": 68
        },
        "outputId": "dab83636-8a15-490b-aa1f-c839a1553c73"
      },
      "source": [
        "print(\"eager is \" , tf.executing_eagerly())\n",
        "print(\"hub v \" , hub.__version__)\n",
        "print(\"ava \", \"GPU \" if tf.config.experimental.list_physical_devices('GPU') else 'NOT')"
      ],
      "execution_count": 2,
      "outputs": [
        {
          "output_type": "stream",
          "text": [
            "eager is  True\n",
            "hub v  0.6.0\n",
            "ava  GPU \n"
          ],
          "name": "stdout"
        }
      ]
    },
    {
      "cell_type": "code",
      "metadata": {
        "id": "236I5JG7hhuN",
        "colab_type": "code",
        "colab": {}
      },
      "source": [
        "train_validation_set = datasets.Split.TRAIN.subsplit([6,4])\n",
        "\n",
        "(train_data, validation_data) , test_data = datasets.load(name=\"imdb_reviews\", as_supervised=True, split=(train_validation_set, datasets.Split.TEST))"
      ],
      "execution_count": 0,
      "outputs": []
    },
    {
      "cell_type": "code",
      "metadata": {
        "id": "Evt8nBejj5UW",
        "colab_type": "code",
        "colab": {
          "base_uri": "https://localhost:8080/",
          "height": 241
        },
        "outputId": "15d15f4e-3f02-4971-e98c-465e4129f7cc"
      },
      "source": [
        "train_example_batch, train_label_batch = next(iter(train_data.batch(10)))\n",
        "train_example_batch"
      ],
      "execution_count": 7,
      "outputs": [
        {
          "output_type": "execute_result",
          "data": {
            "text/plain": [
              "<tf.Tensor: id=229, shape=(10,), dtype=string, numpy=\n",
              "array([b\"As a lifelong fan of Dickens, I have invariably been disappointed by adaptations of his novels.<br /><br />Although his works presented an extremely accurate re-telling of human life at every level in Victorian Britain, throughout them all was a pervasive thread of humour that could be both playful or sarcastic as the narrative dictated. In a way, he was a literary caricaturist and cartoonist. He could be serious and hilarious in the same sentence. He pricked pride, lampooned arrogance, celebrated modesty, and empathised with loneliness and poverty. It may be a clich\\xc3\\xa9, but he was a people's writer.<br /><br />And it is the comedy that is so often missing from his interpretations. At the time of writing, Oliver Twist is being dramatised in serial form on BBC television. All of the misery and cruelty is their, but non of the humour, irony, and savage lampoonery. The result is just a dark, dismal experience: the story penned by a journalist rather than a novelist. It's not really Dickens at all.<br /><br />'Oliver!', on the other hand, is much closer to the mark. The mockery of officialdom is perfectly interpreted, from the blustering beadle to the drunken magistrate. The classic stand-off between the beadle and Mr Brownlow, in which the law is described as 'a ass, a idiot' couldn't have been better done. Harry Secombe is an ideal choice.<br /><br />But the blinding cruelty is also there, the callous indifference of the state, the cold, hunger, poverty and loneliness are all presented just as surely as The Master would have wished.<br /><br />And then there is crime. Ron Moody is a treasure as the sleazy Jewish fence, whilst Oliver Reid has Bill Sykes to perfection.<br /><br />Perhaps not surprisingly, Lionel Bart - himself a Jew from London's east-end - takes a liberty with Fagin by re-interpreting him as a much more benign fellow than was Dicken's original. In the novel, he was utterly ruthless, sending some of his own boys to the gallows in order to protect himself (though he was also caught and hanged). Whereas in the movie, he is presented as something of a wayward father-figure, a sort of charitable thief rather than a corrupter of children, the latter being a long-standing anti-semitic sentiment. Otherwise, very few liberties are taken with Dickens's original. All of the most memorable elements are included. Just enough menace and violence is retained to ensure narrative fidelity whilst at the same time allowing for children' sensibilities. Nancy is still beaten to death, Bullseye narrowly escapes drowning, and Bill Sykes gets a faithfully graphic come-uppance.<br /><br />Every song is excellent, though they do incline towards schmaltz. Mark Lester mimes his wonderfully. Both his and my favourite scene is the one in which the world comes alive to 'who will buy'. It's schmaltzy, but it's Dickens through and through.<br /><br />I could go on. I could commend the wonderful set-pieces, the contrast of the rich and poor. There is top-quality acting from more British regulars than you could shake a stick at.<br /><br />I ought to give it 10 points, but I'm feeling more like Scrooge today. Soak it up with your Christmas dinner. No original has been better realised.\",\n",
              "       b\"Oh yeah! Jenna Jameson did it again! Yeah Baby! This movie rocks. It was one of the 1st movies i saw of her. And i have to say i feel in love with her, she was great in this move.<br /><br />Her performance was outstanding and what i liked the most was the scenery and the wardrobe it was amazing you can tell that they put a lot into the movie the girls cloth were amazing.<br /><br />I hope this comment helps and u can buy the movie, the storyline is awesome is very unique and i'm sure u are going to like it. Jenna amazed us once more and no wonder the movie won so many awards. Her make-up and wardrobe is very very sexy and the girls on girls scene is amazing. specially the one where she looks like an angel. It's a must see and i hope u share my interests\",\n",
              "       b\"I saw this film on True Movies (which automatically made me sceptical) but actually - it was good. Why? Not because of the amazing plot twists or breathtaking dialogue (of which there is little) but because actually, despite what people say I thought the film was accurate in it's depiction of teenagers dealing with pregnancy.<br /><br />It's NOT Dawson's Creek, they're not graceful, cool witty characters who breeze through sexuality with effortless knowledge. They're kids and they act like kids would. <br /><br />They're blunt, awkward and annoyingly confused about everything. Yes, this could be by accident and they could just be bad actors but I don't think so. Dermot Mulroney gives (when not trying to be cool) a very believable performance and I loved him for it. Patricia Arquette IS whiny and annoying, but she was pregnant and a teenagers? The combination of the two isn't exactly lavender on your pillow. The plot was VERY predictable and but so what? I believed them, his stress and inability to cope - her brave, yet slightly misguided attempts to bring them closer together. I think the characters, acted by anyone else, WOULD indeed have been annoying and unbelievable but they weren't. It reflects the surreality of the situation they're in, that he's sitting in class and she walks on campus with the baby. I felt angry at her for that, I felt angry at him for being such a child and for blaming her. I felt it all.<br /><br />In the end, I loved it and would recommend it.<br /><br />Watch out for the scene where Dermot Mulroney runs from the disastrous counselling session - career performance.\",\n",
              "       b'This was a wonderfully clever and entertaining movie that I shall never tire of watching many, many times. The casting was magnificent in matching up the young with the older characters. There are those of us out here who really do appreciate good actors and an intelligent story format. As for Judi Dench, she is beautiful and a gift to any kind of production in which she stars. I always make a point to see Judi Dench in all her performances. She is a superb actress and a pleasure to watch as each transformation of her character comes to life. I can only be grateful when I see such an outstanding picture for most of the motion pictures made more recently lack good characters, good scripts and good acting. The movie public needs heroes, not deviant manikins, who lack ingenuity and talent. How wonderful to see old favorites like Leslie Caron, Olympia Dukakis and Cleo Laine. I would like to see this movie win the awards it deserves. Thank you again for a tremendous night of entertainment. I congratulate the writer, director, producer, and all those who did such a fine job.',\n",
              "       b'I have no idea what the other reviewer is talking about- this was a wonderful movie, and created a sense of the era that feels like time travel. The characters are truly young, Mary is a strong match for Byron, Claire is juvenile and a tad annoying, Polidori is a convincing beaten-down sycophant... all are beautiful, curious, and decadent... not the frightening wrecks they are in Gothic.<br /><br />Gothic works as an independent piece of shock film, and I loved it for different reasons, but this works like a Merchant and Ivory film, and was from my readings the best capture of what the summer must have felt like. Romantic, yes, but completely rekindles my interest in the lives of Shelley and Byron every time I think about the film. One of my all-time favorites.',\n",
              "       b\"This was soul-provoking! I am an Iranian, and living in th 21st century, I didn't know that such big tribes have been living in such conditions at the time of my grandfather!<br /><br />You see that today, or even in 1925, on one side of the world a lady or a baby could have everything served for him or her clean and on-demand, but here 80 years ago, people ventured their life to go to somewhere with more grass. It's really interesting that these Persians bear those difficulties to find pasture for their sheep, but they lose many the sheep on their way.<br /><br />I praise the Americans who accompanied this tribe, they were as tough as Bakhtiari people.\",\n",
              "       b'Just because someone is under the age of 10 does not mean they are stupid. If your child likes this film you\\'d better have him/her tested. I am continually amazed at how so many people can be involved in something that turns out so bad. This \"film\" is a showcase for digital wizardry AND NOTHING ELSE. The writing is horrid. I can\\'t remember when I\\'ve heard such bad dialogue. The songs are beyond wretched. The acting is sub-par but then the actors were not given much. Who decided to employ Joey Fatone? He cannot sing and he is ugly as sin.<br /><br />The worst thing is the obviousness of it all. It is as if the writers went out of their way to make it all as stupid as possible. Great children\\'s movies are wicked, smart and full of wit - films like Shrek and Toy Story in recent years, Willie Wonka and The Witches to mention two of the past. But in the continual dumbing-down of American more are flocking to dreck like Finding Nemo (yes, that\\'s right), the recent Charlie & The Chocolate Factory and eye-crossing trash like Red Riding Hood.',\n",
              "       b\"I absolutely LOVED this movie when I was a kid. I cried every time I watched it. It wasn't weird to me. I totally identified with the characters. I would love to see it again (and hope I wont be disappointed!). Pufnstuf rocks!!!! I was really drawn in to the fantasy world. And to me the movie was loooong. I wonder if I ever saw the series and have confused them? The acting I thought was strong. I loved Jack Wilde. He was so dreamy to an 10 year old (when I first saw the movie, not in 1970. I can still remember the characters vividly. The flute was totally believable and I can still 'feel' the evil woods. Witchy poo was scary - I wouldn't want to cross her path.\",\n",
              "       b'A very close and sharp discription of the bubbling and dynamic emotional world of specialy one 18year old guy, that makes his first experiences in his gay love to an other boy, during an vacation with a part of his family.<br /><br />I liked this film because of his extremly clear and surrogated storytelling , with all this \"Sound-close-ups\" and quiet moments wich had been full of intensive moods.<br /><br />',\n",
              "       b\"This is the most depressing film I have ever seen. I first saw it as a child and even thinking about it now really upsets me. I know it was set in a time when life was hard and I know these people were poor and the crops were vital. Yes, I get all that. What I find hard to take is I can't remember one single light moment in the entire film. Maybe it was true to life, I don't know. I'm quite sure the acting was top notch and the direction and quality of filming etc etc was wonderful and I know that every film can't have a happy ending but as a family film it is dire in my opinion.<br /><br />I wouldn't recommend it to anyone who wants to be entertained by a film. I can't stress enough how this film affected me as a child. I was talking about it recently and all the sad memories came flooding back. I think it would have all but the heartless reaching for the Prozac.\"],\n",
              "      dtype=object)>"
            ]
          },
          "metadata": {
            "tags": []
          },
          "execution_count": 7
        }
      ]
    },
    {
      "cell_type": "code",
      "metadata": {
        "id": "vKhtn7GllSej",
        "colab_type": "code",
        "colab": {
          "base_uri": "https://localhost:8080/",
          "height": 34
        },
        "outputId": "43a3f04d-a7ea-4509-806c-f6654b129585"
      },
      "source": [
        "train_label_batch"
      ],
      "execution_count": 8,
      "outputs": [
        {
          "output_type": "execute_result",
          "data": {
            "text/plain": [
              "<tf.Tensor: id=230, shape=(10,), dtype=int64, numpy=array([1, 1, 1, 1, 1, 1, 0, 1, 1, 0])>"
            ]
          },
          "metadata": {
            "tags": []
          },
          "execution_count": 8
        }
      ]
    },
    {
      "cell_type": "code",
      "metadata": {
        "id": "vOCz48-PlbG2",
        "colab_type": "code",
        "colab": {
          "base_uri": "https://localhost:8080/",
          "height": 459
        },
        "outputId": "93ddf10c-0cf0-43e2-affa-81c4e49ef4ff"
      },
      "source": [
        "embedding = \"https://tfhub.dev/google/tf2-preview/gnews-swivel-20dim/1\"\n",
        "hub_layer = hub.KerasLayer(embedding, input_shape=[], trainable=True, dtype=tf.string)\n",
        "hub_layer(train_example_batch[:6])"
      ],
      "execution_count": 9,
      "outputs": [
        {
          "output_type": "execute_result",
          "data": {
            "text/plain": [
              "<tf.Tensor: id=412, shape=(6, 20), dtype=float32, numpy=\n",
              "array([[ 3.9819887 , -4.4838037 ,  5.177359  , -2.3643482 , -3.2938678 ,\n",
              "        -3.5364532 , -2.4786978 ,  2.5525482 ,  6.688532  , -2.3076782 ,\n",
              "        -1.9807833 ,  1.1315885 , -3.0339816 , -0.7604128 , -5.743445  ,\n",
              "         3.4242578 ,  4.790099  , -4.03061   , -5.992149  , -1.7297493 ],\n",
              "       [ 3.4232912 , -4.230874  ,  4.1488533 , -0.29553518, -6.802391  ,\n",
              "        -2.5163853 , -4.4002395 ,  1.905792  ,  4.7512794 , -0.40538004,\n",
              "        -4.3401685 ,  1.0361497 ,  0.9744097 ,  0.71507156, -6.2657013 ,\n",
              "         0.16533905,  4.560262  , -1.3106939 , -3.1121316 , -2.1338716 ],\n",
              "       [ 3.8508697 , -5.003031  ,  4.8700504 , -0.04324996, -5.893603  ,\n",
              "        -5.2983093 , -4.004676  ,  4.1236343 ,  6.267754  ,  0.11632943,\n",
              "        -3.5934832 ,  0.8023905 ,  0.56146765,  0.9192484 , -7.3066816 ,\n",
              "         2.8202746 ,  6.2000837 , -3.5709393 , -4.564525  , -2.305622  ],\n",
              "       [ 3.9022908 , -5.336768  ,  4.6433706 , -2.322609  , -5.6409845 ,\n",
              "        -2.2914128 , -1.3552328 ,  1.1260422 ,  4.928207  , -1.4990277 ,\n",
              "        -3.5764084 ,  0.8652999 , -1.8267108 ,  0.7212572 , -6.1661105 ,\n",
              "        -0.67619115,  5.83987   , -2.078528  , -3.7790735 , -2.0113754 ],\n",
              "       [ 3.0298512 , -3.1155329 ,  3.231569  , -2.470162  , -3.6778672 ,\n",
              "        -2.7249148 , -1.5884265 ,  0.8121041 ,  4.3448696 , -1.4254425 ,\n",
              "        -1.9567002 ,  0.7446213 , -0.9539236 ,  0.4037092 , -4.982661  ,\n",
              "         0.9707939 ,  3.717819  , -1.3615017 , -2.881222  , -1.2961531 ],\n",
              "       [ 2.2488396 , -1.4537774 ,  1.97866   , -0.73290443, -2.2218246 ,\n",
              "        -4.054772  , -1.6585274 ,  1.8872426 ,  1.8315402 ,  0.45302168,\n",
              "        -0.50105846,  1.3690453 , -1.9862492 ,  0.4043505 , -5.337918  ,\n",
              "         1.5515825 ,  3.6844683 , -3.3751655 , -3.4578393 , -1.1764543 ]],\n",
              "      dtype=float32)>"
            ]
          },
          "metadata": {
            "tags": []
          },
          "execution_count": 9
        }
      ]
    },
    {
      "cell_type": "code",
      "metadata": {
        "id": "Ne6vMAdDmMP7",
        "colab_type": "code",
        "colab": {
          "base_uri": "https://localhost:8080/",
          "height": 255
        },
        "outputId": "554f6b86-350f-40cb-e26e-6a29c668942c"
      },
      "source": [
        "model = tf.keras.Sequential()\n",
        "model.add(hub_layer)\n",
        "model.add(tf.keras.layers.Dense(16, activation='relu'))\n",
        "model.add(tf.keras.layers.Dense(1, activation='sigmoid'))\n",
        "model.summary()"
      ],
      "execution_count": 12,
      "outputs": [
        {
          "output_type": "stream",
          "text": [
            "Model: \"sequential_1\"\n",
            "_________________________________________________________________\n",
            "Layer (type)                 Output Shape              Param #   \n",
            "=================================================================\n",
            "keras_layer (KerasLayer)     (None, 20)                400020    \n",
            "_________________________________________________________________\n",
            "dense_2 (Dense)              (None, 16)                336       \n",
            "_________________________________________________________________\n",
            "dense_3 (Dense)              (None, 1)                 17        \n",
            "=================================================================\n",
            "Total params: 400,373\n",
            "Trainable params: 400,373\n",
            "Non-trainable params: 0\n",
            "_________________________________________________________________\n"
          ],
          "name": "stdout"
        }
      ]
    },
    {
      "cell_type": "code",
      "metadata": {
        "id": "chVVjb_PnF0m",
        "colab_type": "code",
        "colab": {}
      },
      "source": [
        "model.compile(optimizer='adam', loss='binary_crossentropy', metrics=['accuracy'])"
      ],
      "execution_count": 0,
      "outputs": []
    },
    {
      "cell_type": "code",
      "metadata": {
        "id": "e3a7Bc7ino0c",
        "colab_type": "code",
        "colab": {
          "base_uri": "https://localhost:8080/",
          "height": 836
        },
        "outputId": "199bc551-9d7c-4c00-a1a7-e24aecd9423a"
      },
      "source": [
        "model.fit(train_data.shuffle(10000).batch(512), epochs=20, verbose=1, validation_data=validation_data.batch(512))"
      ],
      "execution_count": 14,
      "outputs": [
        {
          "output_type": "stream",
          "text": [
            "Epoch 1/20\n",
            "WARNING:tensorflow:From /tensorflow-2.0.0-rc2/python3.6/tensorflow_core/python/ops/nn_impl.py:183: where (from tensorflow.python.ops.array_ops) is deprecated and will be removed in a future version.\n",
            "Instructions for updating:\n",
            "Use tf.where in 2.0, which has the same broadcast rule as np.where\n"
          ],
          "name": "stdout"
        },
        {
          "output_type": "stream",
          "text": [
            "WARNING:tensorflow:From /tensorflow-2.0.0-rc2/python3.6/tensorflow_core/python/ops/nn_impl.py:183: where (from tensorflow.python.ops.array_ops) is deprecated and will be removed in a future version.\n",
            "Instructions for updating:\n",
            "Use tf.where in 2.0, which has the same broadcast rule as np.where\n"
          ],
          "name": "stderr"
        },
        {
          "output_type": "stream",
          "text": [
            "30/30 [==============================] - 9s 303ms/step - loss: 0.9571 - accuracy: 0.5245 - val_loss: 0.0000e+00 - val_accuracy: 0.0000e+00\n",
            "Epoch 2/20\n",
            "30/30 [==============================] - 7s 241ms/step - loss: 0.6933 - accuracy: 0.6031 - val_loss: 0.6311 - val_accuracy: 0.6478\n",
            "Epoch 3/20\n",
            "30/30 [==============================] - 7s 241ms/step - loss: 0.6087 - accuracy: 0.6799 - val_loss: 0.5819 - val_accuracy: 0.6964\n",
            "Epoch 4/20\n",
            "30/30 [==============================] - 7s 246ms/step - loss: 0.5615 - accuracy: 0.7227 - val_loss: 0.5459 - val_accuracy: 0.7309\n",
            "Epoch 5/20\n",
            "30/30 [==============================] - 7s 242ms/step - loss: 0.5214 - accuracy: 0.7525 - val_loss: 0.5119 - val_accuracy: 0.7556\n",
            "Epoch 6/20\n",
            "30/30 [==============================] - 7s 245ms/step - loss: 0.4877 - accuracy: 0.7797 - val_loss: 0.4862 - val_accuracy: 0.7742\n",
            "Epoch 7/20\n",
            "30/30 [==============================] - 7s 243ms/step - loss: 0.4571 - accuracy: 0.7991 - val_loss: 0.4631 - val_accuracy: 0.7863\n",
            "Epoch 8/20\n",
            "30/30 [==============================] - 7s 241ms/step - loss: 0.4293 - accuracy: 0.8159 - val_loss: 0.4416 - val_accuracy: 0.8006\n",
            "Epoch 9/20\n",
            "30/30 [==============================] - 7s 243ms/step - loss: 0.4034 - accuracy: 0.8323 - val_loss: 0.4212 - val_accuracy: 0.8104\n",
            "Epoch 10/20\n",
            "30/30 [==============================] - 7s 240ms/step - loss: 0.3754 - accuracy: 0.8468 - val_loss: 0.4019 - val_accuracy: 0.8209\n",
            "Epoch 11/20\n",
            "30/30 [==============================] - 7s 250ms/step - loss: 0.3538 - accuracy: 0.8589 - val_loss: 0.3837 - val_accuracy: 0.8314\n",
            "Epoch 12/20\n",
            "30/30 [==============================] - 7s 242ms/step - loss: 0.3301 - accuracy: 0.8699 - val_loss: 0.3671 - val_accuracy: 0.8411\n",
            "Epoch 13/20\n",
            "30/30 [==============================] - 7s 241ms/step - loss: 0.3045 - accuracy: 0.8825 - val_loss: 0.3521 - val_accuracy: 0.8483\n",
            "Epoch 14/20\n",
            "30/30 [==============================] - 7s 244ms/step - loss: 0.2824 - accuracy: 0.8915 - val_loss: 0.3397 - val_accuracy: 0.8535\n",
            "Epoch 15/20\n",
            "30/30 [==============================] - 7s 244ms/step - loss: 0.2650 - accuracy: 0.8997 - val_loss: 0.3348 - val_accuracy: 0.8543\n",
            "Epoch 16/20\n",
            "30/30 [==============================] - 7s 241ms/step - loss: 0.2492 - accuracy: 0.9083 - val_loss: 0.3220 - val_accuracy: 0.8608\n",
            "Epoch 17/20\n",
            "30/30 [==============================] - 7s 239ms/step - loss: 0.2313 - accuracy: 0.9165 - val_loss: 0.3133 - val_accuracy: 0.8653\n",
            "Epoch 18/20\n",
            "30/30 [==============================] - 7s 244ms/step - loss: 0.2152 - accuracy: 0.9233 - val_loss: 0.3075 - val_accuracy: 0.8690\n",
            "Epoch 19/20\n",
            "30/30 [==============================] - 7s 244ms/step - loss: 0.2011 - accuracy: 0.9295 - val_loss: 0.3032 - val_accuracy: 0.8704\n",
            "Epoch 20/20\n",
            "30/30 [==============================] - 7s 239ms/step - loss: 0.1868 - accuracy: 0.9351 - val_loss: 0.3002 - val_accuracy: 0.8732\n"
          ],
          "name": "stdout"
        },
        {
          "output_type": "execute_result",
          "data": {
            "text/plain": [
              "<tensorflow.python.keras.callbacks.History at 0x7f914f731940>"
            ]
          },
          "metadata": {
            "tags": []
          },
          "execution_count": 14
        }
      ]
    },
    {
      "cell_type": "code",
      "metadata": {
        "id": "cT-t6rvsqS2w",
        "colab_type": "code",
        "colab": {
          "base_uri": "https://localhost:8080/",
          "height": 34
        },
        "outputId": "e2954721-f096-4497-ee5c-c8dd4a26d626"
      },
      "source": [
        "results = model.evaluate(test_data.batch(512), verbose=2)"
      ],
      "execution_count": 15,
      "outputs": [
        {
          "output_type": "stream",
          "text": [
            "49/49 - 5s - loss: 0.3188 - accuracy: 0.8619\n"
          ],
          "name": "stdout"
        }
      ]
    },
    {
      "cell_type": "code",
      "metadata": {
        "id": "mlaNpTWgsGAx",
        "colab_type": "code",
        "colab": {
          "base_uri": "https://localhost:8080/",
          "height": 34
        },
        "outputId": "513a6585-32c8-478e-ce03-47521922e8bf"
      },
      "source": [
        ""
      ],
      "execution_count": 28,
      "outputs": [
        {
          "output_type": "execute_result",
          "data": {
            "text/plain": [
              "[0.3187930152124288, 0.86188]"
            ]
          },
          "metadata": {
            "tags": []
          },
          "execution_count": 28
        }
      ]
    },
    {
      "cell_type": "code",
      "metadata": {
        "id": "NymuBpYzqdZK",
        "colab_type": "code",
        "colab": {
          "base_uri": "https://localhost:8080/",
          "height": 85
        },
        "outputId": "4a0456d0-5b5f-4f96-adfe-149e7ecec90a"
      },
      "source": [
        "for name, value in zip(model.metrics_names, results):\n",
        "  print(\"%s and %.3f\" %  (name, value))\n",
        "\n",
        "for name, value in zip(model.metrics_names, results):\n",
        "  print(\"%s: %.3f\" % (name, value))\n",
        "  "
      ],
      "execution_count": 22,
      "outputs": [
        {
          "output_type": "stream",
          "text": [
            "loss and 0.319\n",
            "accuracy and 0.862\n",
            "loss: 0.319\n",
            "accuracy: 0.862\n"
          ],
          "name": "stdout"
        }
      ]
    },
    {
      "cell_type": "code",
      "metadata": {
        "id": "3e6xdaMfrNnB",
        "colab_type": "code",
        "colab": {
          "base_uri": "https://localhost:8080/",
          "height": 241
        },
        "outputId": "6b46d8c2-76d1-4769-8cee-98b66c5c7064"
      },
      "source": [
        "test_sample_data, test_sameple_label = next(iter(test_data.batch(10)))\n",
        "test_sample_data"
      ],
      "execution_count": 23,
      "outputs": [
        {
          "output_type": "execute_result",
          "data": {
            "text/plain": [
              "<tf.Tensor: id=4891, shape=(10,), dtype=string, numpy=\n",
              "array([b\"I've watched the movie actually several times. And what i want to say about it is the only thing that made this movie high rank was the Burak Altay's incredible performance, absolutely nothing but that. Not even those silly model named Deniz Akkaya and some of these popular names at times in the movie... Burak is definitely very talented i've seen a few jobs he made and been through. Even though this is kind of horror movie, he's doing really good job in comedy movies and also in dramas too. I bet most of you all saw Asmali Konak the movie and TV series, those two would go for an example... All i'm gonna say is you better watch out for the new works coming out from Burak then you'll see.. Keep the good work bro, much love..\",\n",
              "       b'If you love Japanese monster movies, you\\'ll love this action packed battle pitting an alien invader, intent upon conquering the Earth, and a \"Giant Robot\" with an armory of super weaponry. The alien, \"Emporer Guillotine,\" from the planet Gargoyle, has a army of thugs called, (of course) \"the gargoyle gang,\" as well as an endless supply of immense hostile creatures that are routinely loosed upon the Earth to smash buildings, make loud noises, panic the populace, etc. A little kid, named Johnny Sokko, has the Giant Robot at his beckon call, and sends the Robot, as needed, to beat up, and then blast these creatures. Johnny joins a group of \"good spies\" called Unicorn, and endeavors to help save the world.<br /><br />In spite of the campy nature, unintentionally humorous dialog, and the fact that the target audience was obviously children, this movie has non-stop action, colorful characters, decent special effects, and just happens to be downright fun to watch. Battle scenes are well executed, and frequent, as the storyline requires. The good guys and bad guys both made sure they had an inexhaustible supply of bombs, lasers, ammunition, and schemes to attack each other. In spite of the fact the movie was constructed from edited episodes of a TV series, the plot actually develops, and reaches an ultimate conclusion.<br /><br />The film has a positive outlook and appeals to everyone\\'s (especially kids\\') desire to destroy evil in its many forms. Kids may be the target audience, but it\\'s fun for everyone to laugh at its comical silliness; yet, at the same time, root for the good guys to prevail and \"save the world.\" The acting is cheesy in places, but that is the charm: there are several lines of corny dialog (possibly translation errors or possibly intentional jokes by the movie makers), and you\\'ll find yourself quoting these absurd lines later.<br /><br />Admittedly, this film is not high in production quality or budget. However, for what it is, campy sci-fi, it\\'s enjoyable for some laughs. I recommend it to anyone with a sense of humor for that sort of thing.',\n",
              "       b'A film for mature, educated audiences...<br /><br />I saw \"Random Hearts\" in an advance screening shortly before its North American release. This romantic drama was quite a treat. I\\'m sure this story will not be everyone\\'s cup of tea, especially considering the film\\'s darkly downbeat premise. But the pic has some very uplifting strong points in its favor.<br /><br />All-time Box Office Draw Harrison Ford (\"Star Wars,\" \"Raiders of the Lost Ark,\" \"The Fugitive,\" \"Air Force One,\" \"Patriot Games\") is at the top of his game as the harried and desperate Internal Affairs officer, Dutch. Ford\\'s very subdued, nuanced performance shows quite the range he can achieve with class and determination in bringing the audience into his world of loss & betrayal. This is the perfect complex role and very different type of film for Harrison Ford to grace the screen with between his action blockbusters. Next year Harrison Ford returns to action, first for director Robert Zemeckis (\"Forrest Gump,\" \"Back To The Future\") in his summer 2000 thriller, \"What Lies Beneath,\" and reportedly later in the year in the film adaptation of Tom Clancy\\'s \"The Sum Of All Fears.\" \\'Fears\\' will be Harrison Ford\\'s third outing as CIA operative Jack Ryan.<br /><br />Director Sydney Pollack (\"Out of Africa,\" \"The Firm,\" \"Tootsie\") has a supporting role in this feature as a political advisor to Scott-Thomas\\' congresswoman. It\\'s a very sharp & energetic portrayal for Pollack. Not only is Sydney Pollack a gifted director, he is also one of the most believable, natural and charming actors around (see \"Eyes Wide Shut\" as well).<br /><br />Kristin Scott-Thomas (\"The English Patient,\" \"The Horse Whisperer\") shows that you don\\'t necessarily have to be eccentric or worldly to be considered sexy. This is one of her better films, and she gives a tremendously crafted and mellowed performance that works well opposite Ford\\'s quiet-man toughness.<br /><br />The subplots work wonderfully, especially the subplot involving Ford\\'s character\\'s investigation into police corruption. Look for a chilling & effective turn by \"Heat\" actor, Dennis Haysbert, who plays Detective George Beaufort, the obstacle to overcome in Dutch\\'s investigation into police corruption.<br /><br />The rest of the supporting cast is a wonderful delight. Charles S. Dutton (whose long overdue for a film leading role) goes to show that he is one of the best character-actors around, and Bonnie Hunt, who I find extremely solid in this production, steals most of her scenes with that wonderful, charming smile as Wendy Judd.<br /><br />The technical side of Pollack\\'s thriller is top notched. From Dave Grusin\\'s (Pollack\\'s \"The Firm\") perfectly surreal-feeling jazzy score, to Philippe Rousselot (\"A River Runs Through It\") crisp photography, to the sharp editing that keeps the film feeling fresh, despite the film\\'s unfortunate downer premise.<br /><br />I highly recommend this film to anyone who enjoys a good yarn of mystery, well-paced plot, character-driven stories, and romance all rolled into one. This is a terrific story about betrayal & forgiveness. It also features one of the most surprising, yet poignant, and certain to be controversial endings for a Harrison Ford film in recent times. \"Random Hearts\" is definitely one of the better films of the year.<br /><br />(***1/2 out of ****) or (8.5 out of 10.0)',\n",
              "       b\"I never saw any of The League's work until early last year - although when channel hopping one night I caught the end of one the series three episodes. But last winter I fell in love with the show and its dark, eccentric and sometimes downright sinister characters. So when I learnt they had made a film in which the show's lovable creators met their own characters, I couldn't order the DVD fast enough and near on tore it from my postman's hands when he delivered it. I was so excited to see what the Gents had done and how they'd done it.<br /><br />And it was excellent! From the beginning where Jeremy (Michael Sheen) is terrorised by Edward, Tubbs and Papa (Dyson, why didn't you play yourself? He's perfectly capable as viewers of the infamous Highgate House of Horrors know!), to Bernice berating yet another one of her flock, to Geoff, Herr Lipp and Hilary discovering that THEY are characters, which is a great scene. The scenes set in 1690 are very enjoyable, with the Gents turning their hands to yet more characters and an all new plot. David Warner's turn as Doctor Pea is fantastic, slightly camp and very funny.<br /><br />The League have always been brilliant at blending humour with sadness and emotion - and the climax of this film, where Herr Lipp is struggling with the idea that he and the other Vasey residents are just fictional people who will never be able to change who they are or their purpose - and to witness how it's breaking him down, is really sad and beautiful to watch at the same time and that really shows the Gents' talent - something for which they are terribly overlooked for to this day.<br /><br />And then you have that rather clever ending - where you sit in wonder - with Joby Talbot's beautiful theme music playing. And you know you've enjoyed a very clever and funny film.\",\n",
              "       b'To start off, this happens to be my favorite of the ST OS.<br /><br />In addition to StuOz\\'s critical comments I\\'ll throw in some more: Getting technical, when the Enterprise fires it\\'s photon torps at a blind target, they\\'d have to be mighty close to direct hits (I believe) in order to cause any disturbance much less damage to the Romulan vessel with the vacuum of space to contend with.<br /><br />I had somewhat of a problem with the Romulan commander questioning his faith in the Romulan \"protocol\" or their leadership, unless it has to do with attacking vulnerable targets (outposts in the neutral zone) that are not at war. Also, I don\\'t think commander would fall for the basic, or simple tactics that Kirk played, such as \"playing dead,\" or falling for the ploy that the subordinate puts on him about whether or not to attack the Enterprise when it is playing dead.<br /><br />On the Enterprise: I\\'m surprised that after seeing the Romulan vessel\\'s method of attack earlier, that Sulu would say, \"Are they surrendering?\" when it attacks the Enterprise the first time.<br /><br />Funny how Spock can only get the repair done on the weapons control right when the emergency is over.<br /><br />Also in the final attack, I thought the Romulan vessel was uncloaked too long (so long that Spock could run down a couple aisles and back to the weapons room and activate and fire the photon torpedoes. I would have used phasers at this point, but I\\'m sure it had to do with the technicians and budget).<br /><br />On the positive side: It\\'s a good drama played on the Romulan vessel, in which to introduce us to the Romulans. Great scenes with Stiles telling a good deal of the human knowledge of the Romulans. Also his conflict with Spock is right up there. I wished Stiles\\' character would have stayed on the show for a while, if for nothing else than the energy he added.<br /><br />It\\'s only in fun that I point out the negatives and goofs, (I\\'m sure there are more). But for me this is as good as it gets!! \"Balance of Terror\" is always the one I place at the top in my ST rankings.',\n",
              "       b\"`Shadow Magic' recaptures the joy and amazement of the first movie audiences. It also shows the power of film in its ability to bring the world a little closer, overcome cultural barriers and to preserve ourselves for generations yet to come. Certainly, anyone who truly loves the art of the motion picture will enjoy this film. It's a great first effort by writer/director Ann Hu, who will hopefully have many films to follow.\",\n",
              "       b\"I wish I could have voted this movie a ten, it's that funny. If they had intended for it to be that funny I would have given it a ten. I have to give it a 1, but it's the funniest darn 1 you'll ever want to watch. See the giant blur flash across the screen! Where did it come from? What is it? It flies, it terrifies, it's electrifying, it's on strings! This bird has real personality. I was about ten when I saw it for the first time, and when Big Bird appeared on Sesame Street, I was sure they were one and the same!\",\n",
              "       b\"Set in 1962 Hong Kong (in turbulent times, as we are informed), this extremely intimate story of a failed romance between a two married people tied to their traditions manages to recall the essence of old Hollywood in scene after scene of lush colors, evocative yet restrained sensuality (as opposed of the requisite sexuality and occasional nude scenes which has become part of the norm of a romance in film), and the use of facial expressions to suggest subtle changes in mood or communication. It's not hard to see the influence of Marguerite Duras here, since she is known for minimalism in storytelling as well as describing powerful drama using the art of verbal and non-verbal conversation between two characters with a strong bond as well as the use of re-enacting scenes that could eventually take place in both the characters' lives. From Hiroshima MON AMOUR to MODERATO CANTABILE, her pen is strongly visible here from the moment we enter the cramped rooms of Mr. Chow (Tony Leung) and Mrs. Su Li-zhen (Maggie Cheung) to the last scenes which explain the intensity of regret that he feels as he recalls the opportunity which was lost in reaffirming this relationship.<br /><br />The plot even resembles something that Duras could have written: Mr. Chow and Mrs. Su Li-zhen, neighbors in a tenement apartment while both being fairly successful professionals, begin to discover in the most banal of ways that their spouses are cheating on them, and they discover quite naturally, it's with each other. The question is, should they act upon what they also feel towards each other or not be like their partners? Every scene plays with the notion that at any moment they will give in to each other, and at one point, it is suggested that eventually they do though as intrusive as the camera is in detailing to us their encounters (which seem to occur on a daily basis as seen by the frequent changes of Cheung's dresses), we never see it. And just as not seeing either of their spouses heightens their own love story, not seeing them carry through with their attraction makes the eventual separation even the more bitter because at every moment we want for something to happen -- some catalyst -- and the only one which comes is when Leung reveals to her that he loves her, followed by his quietly brutal revelation that she will never leave her husband, which implies that neither will he. It also gives us a glimpse of what culture and timing can do: from a Western point of view, a consummation of their romance into a more solid, lasting affair would have been possible especially in the 60s, but as it's Hong Kong, cultural values are markedly different.<br /><br />Performances here are of the high order: it's very easy to play a torrid love affair, but to continually play a repressed, platonic relationship that is brimming with desire only barely suggested is hard and makes all the sensuality more cerebral than palpable or visual. Cheung and Leung smolder and their blighted chemistry lingers long after the credits have rolled.\",\n",
              "       b'Good footage of World War I-era ships and planes supplement this excellent war drama set in the Adriatic. Walter Huston is excellent as the commanding officer who knows his place and his place has no room for personal feelings. The safety of the ship and the mission must always come first. Robert Montgomery is the Lieutenant who has not yet mastered the role that a leader must play in combat. He makes bad decisions, endangering the submarine and its crew but finally becomes a \"real man\" after he is court martialed and dismissed from the Navy. Robert Young plays a lieutenant junior grade and Jimmy Durante as a cook. Paralleling the war drama is an equally important wartime love triangle between Montgomery and Madge Evans who plays Huston\\'s daughter and the wife of a tragically injured aviator. Recommended.',\n",
              "       b'I am from Romania ... and for that i apologize if my English is not so good.<br /><br />i just finished watching this movie and i must say that i am extremely disappointed. I always liked Wesley Snipes\\'s movies but this one is terrible. I regret that I spent over 3 hours downloading this film. There are a lot mistakes in the film. For example, the stadium in the film is not Lia Manoliu. The name of the stadium is Ghencea. The name of the soccer team is called Steaua Bucuresti, not Uli.The scoreboard of the stadium is not capable of showing graphical images: video replays, live images etc. It\\'s a simple scoreboard that can only display letters and numbers. The Uli(Seaua) team\\'s opponents are displayed on the scoreboard as Din ( probably from Dinamo Bucuresti - who are Steaua\\'s main rivals in the Romanian soccer championship). The images from the soccer match are from a match between Steaua Bucuresti and Poli Timisoara (my favorite team and my only love - look it up on the internet and you will see why). The police cars in the movie are not properly made. There isn\\'t a single dark-blue police car in Romania! They are all white! The \"mistake list\" can go on and on and on ... but i will stop here! In short terms this movie is horrible. It does not worth renting it, it does not worth buying a cinema ticket for it, it does not worth downloading it! I honestly feel sorry that Wesley snipes played in this movie. A previous movie of his ... 7 seconds ... also filmed in Romania ... was OK but this is terrible!'],\n",
              "      dtype=object)>"
            ]
          },
          "metadata": {
            "tags": []
          },
          "execution_count": 23
        }
      ]
    },
    {
      "cell_type": "code",
      "metadata": {
        "id": "e6tG01_hrZdd",
        "colab_type": "code",
        "colab": {
          "base_uri": "https://localhost:8080/",
          "height": 34
        },
        "outputId": "03b9bad4-57c0-47c4-a9f3-5016eea30cce"
      },
      "source": [
        "test_sameple_label"
      ],
      "execution_count": 24,
      "outputs": [
        {
          "output_type": "execute_result",
          "data": {
            "text/plain": [
              "<tf.Tensor: id=4892, shape=(10,), dtype=int64, numpy=array([1, 1, 1, 1, 1, 1, 0, 1, 1, 0])>"
            ]
          },
          "metadata": {
            "tags": []
          },
          "execution_count": 24
        }
      ]
    },
    {
      "cell_type": "code",
      "metadata": {
        "id": "V5mdmujSrhjc",
        "colab_type": "code",
        "colab": {}
      },
      "source": [
        "str = \"I wish I could have voted this movie a ten, it's that funny. If they had intended for it to be that funny I would have given it a ten. I have to give it a 1, but it's the funniest darn 1 you'll ever want to watch. See the giant blur flash across the screen! Where did it come from? What is it? It flies, it terrifies, it's electrifying, it's on strings! This bird has real personality. I was about ten when I saw it for the first time, and when Big Bird appeared on Sesame Street, I was sure they were one and the same!\",\""
      ],
      "execution_count": 0,
      "outputs": []
    },
    {
      "cell_type": "code",
      "metadata": {
        "id": "5ARWCRaRrrea",
        "colab_type": "code",
        "colab": {
          "base_uri": "https://localhost:8080/",
          "height": 34
        },
        "outputId": "8069f2f0-7f8b-4538-d62f-e8c65daf2cc5"
      },
      "source": [
        "res = model.predict(test_sample_data, verbose=2)"
      ],
      "execution_count": 29,
      "outputs": [
        {
          "output_type": "stream",
          "text": [
            "10/1 - 0s\n"
          ],
          "name": "stdout"
        }
      ]
    },
    {
      "cell_type": "code",
      "metadata": {
        "id": "sfSm2Wb4r4SS",
        "colab_type": "code",
        "colab": {
          "base_uri": "https://localhost:8080/",
          "height": 187
        },
        "outputId": "c8dc5abf-f764-4021-ea64-84cda6dc671b"
      },
      "source": [
        "res"
      ],
      "execution_count": 31,
      "outputs": [
        {
          "output_type": "execute_result",
          "data": {
            "text/plain": [
              "array([[0.95514846],\n",
              "       [0.2294823 ],\n",
              "       [0.99987507],\n",
              "       [0.99835396],\n",
              "       [0.688197  ],\n",
              "       [0.9968624 ],\n",
              "       [0.40349418],\n",
              "       [0.991414  ],\n",
              "       [0.9880343 ],\n",
              "       [0.55720204]], dtype=float32)"
            ]
          },
          "metadata": {
            "tags": []
          },
          "execution_count": 31
        }
      ]
    }
  ]
}